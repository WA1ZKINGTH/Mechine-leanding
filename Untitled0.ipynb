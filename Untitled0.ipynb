{
  "nbformat": 4,
  "nbformat_minor": 0,
  "metadata": {
    "colab": {
      "provenance": [],
      "authorship_tag": "ABX9TyOqBQmnodzlIeRxxoMSm1e5",
      "include_colab_link": true
    },
    "kernelspec": {
      "name": "python3",
      "display_name": "Python 3"
    },
    "language_info": {
      "name": "python"
    }
  },
  "cells": [
    {
      "cell_type": "markdown",
      "metadata": {
        "id": "view-in-github",
        "colab_type": "text"
      },
      "source": [
        "<a href=\"https://colab.research.google.com/github/WA1ZKINGTH/Mechine-leanding/blob/main/Untitled0.ipynb\" target=\"_parent\"><img src=\"https://colab.research.google.com/assets/colab-badge.svg\" alt=\"Open In Colab\"/></a>"
      ]
    },
    {
      "cell_type": "markdown",
      "source": [
        "Program written by Varakorn Jirarueangtakul Modified on 8 Aug 2024"
      ],
      "metadata": {
        "id": "6J3OgfzoDMzp"
      }
    },
    {
      "cell_type": "code",
      "execution_count": 4,
      "metadata": {
        "colab": {
          "base_uri": "https://localhost:8080/"
        },
        "id": "bHJXdAJGDL-I",
        "outputId": "0efd449f-351e-40e9-cee7-9918aead46ee"
      },
      "outputs": [
        {
          "output_type": "stream",
          "name": "stdout",
          "text": [
            "My name is Varakorn Jirarueangtakul\n",
            "student id 67070502489\n"
          ]
        }
      ],
      "source": [
        "firstname = \"Varakorn\"\n",
        "lastname = \"Jirarueangtakul\"\n",
        "studentid = \"67070502489\"\n",
        "print(\"My name is\" ,firstname ,lastname)\n",
        "print(\"student id\" ,studentid)"
      ]
    }
  ]
}